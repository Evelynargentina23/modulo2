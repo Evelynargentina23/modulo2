{
  "cells": [
    {
      "cell_type": "markdown",
      "metadata": {
        "id": "view-in-github",
        "colab_type": "text"
      },
      "source": [
        "<a href=\"https://colab.research.google.com/github/Evelynargentina23/modulo2/blob/main/homework_clase01_resuelto.ipynb\" target=\"_parent\"><img src=\"https://colab.research.google.com/assets/colab-badge.svg\" alt=\"Open In Colab\"/></a>"
      ]
    },
    {
      "cell_type": "code",
      "execution_count": 1,
      "metadata": {
        "id": "3XalNIfaUgDD"
      },
      "outputs": [],
      "source": [
        "import numpy as np # importando numpy\n",
        "from scipy import stats # importando scipy.stats\n",
        "import pandas as pd #importando pandas\n",
        "import matplotlib.pyplot as plt # importando matplotlib"
      ]
    },
    {
      "cell_type": "code",
      "execution_count": 2,
      "metadata": {
        "id": "v45dBgwwUgDN"
      },
      "outputs": [],
      "source": [
        "muestra = np.array( [[1.85, 1.8, 1.8 , 1.8],\n",
        "                    [1.73,  1.7, 1.75, 1.76],\n",
        "                    [ 1.65, 1.69,  1.67 ,  1.6],\n",
        "                    [1.54,  1.57, 1.58, 1.59],\n",
        "                    [ 1.4 , 1.42,  1.45, 1.48]]) "
      ]
    },
    {
      "cell_type": "code",
      "execution_count": 3,
      "metadata": {
        "id": "Ir_fG3duUgDP",
        "colab": {
          "base_uri": "https://localhost:8080/"
        },
        "outputId": "8ca07f31-a836-4f65-cec8-dffb88b67d2e"
      },
      "outputs": [
        {
          "output_type": "stream",
          "name": "stdout",
          "text": [
            "1.6415\n",
            "1.6415\n",
            "1.6415\n"
          ]
        }
      ],
      "source": [
        "#media aritmética\n",
        "print(muestra.mean())\n",
        "print(np.mean(muestra))\n",
        "\n",
        "def obtenerPromedio(arreglo):\n",
        "   # numeros = []\n",
        "   # for fila in arreglo:\n",
        "   #    for numero in fila:\n",
        "   #       numeros.append(numero)\n",
        "   numeros = [numero for fila in arreglo for numero in fila]\n",
        "   suma = 0\n",
        "   for cantidad, numero in enumerate(numeros, 1):\n",
        "      suma += numero\n",
        "   promedio = suma / cantidad\n",
        "   return promedio\n",
        "\n",
        "print(obtenerPromedio(muestra))\n",
        "    "
      ]
    },
    {
      "cell_type": "code",
      "execution_count": 4,
      "metadata": {
        "id": "wkUNhoJyUgDQ",
        "colab": {
          "base_uri": "https://localhost:8080/"
        },
        "outputId": "12437474-2823-4e98-edb6-0e7aa930be6d"
      },
      "outputs": [
        {
          "output_type": "stream",
          "name": "stdout",
          "text": [
            "1.66\n"
          ]
        }
      ],
      "source": [
        "#Mediana\n",
        "print(np.median(muestra))"
      ]
    },
    {
      "cell_type": "code",
      "execution_count": null,
      "metadata": {
        "id": "EYmgg-cZUgDR"
      },
      "outputs": [],
      "source": [
        "muestra.flatten()"
      ]
    },
    {
      "cell_type": "code",
      "execution_count": null,
      "metadata": {
        "id": "Fi3vNAR4UgDS"
      },
      "outputs": [],
      "source": [
        "#set\n",
        "nums = {1,2,4,5,5,5,5,8}\n",
        "print(nums)"
      ]
    },
    {
      "cell_type": "code",
      "execution_count": null,
      "metadata": {
        "id": "PdesOdyaUgDT"
      },
      "outputs": [],
      "source": [
        "lista = [2,3,5]\n",
        "\n",
        "#for indice, elemento in enumerate(lista):\n",
        "   #print(indice, elemento)\n",
        "\n",
        "for iterador in enumerate(lista):\n",
        "   print(iterador[0], iterador[1])"
      ]
    },
    {
      "cell_type": "code",
      "execution_count": null,
      "metadata": {
        "id": "z49CQ4d4UgDV"
      },
      "outputs": [],
      "source": [
        "#Moda\n",
        "#print(stats.mode(muestra.flatten())[0])\n",
        "\n",
        "def obtenerModa(arreglo):\n",
        "   numeros = [numero for fila in arreglo for numero in fila] #Paso la matriz a una lista\n",
        "   unicos = list(set(numeros)) #Obtengo valores únicos\n",
        "   moda, maximo = 0,0\n",
        "   for indice, numero in enumerate(unicos):\n",
        "      conteo = numeros.count(numero) #Busco la mayor repetición de ese valor\n",
        "      if conteo > maximo:\n",
        "         maximo = conteo\n",
        "         moda = unicos[indice]\n",
        "   return moda\n",
        "\n",
        "obtenerModa(muestra)\n",
        "\n"
      ]
    },
    {
      "cell_type": "code",
      "execution_count": null,
      "metadata": {
        "id": "5rUlhURaUgDX"
      },
      "outputs": [],
      "source": [
        "#Varianza\n",
        "print(np.var(muestra))"
      ]
    },
    {
      "cell_type": "code",
      "execution_count": null,
      "metadata": {
        "id": "53zCLRLqUgDY"
      },
      "outputs": [],
      "source": [
        "#Desvío\n",
        "print(np.std(muestra))"
      ]
    },
    {
      "cell_type": "code",
      "execution_count": null,
      "metadata": {
        "id": "Q_bXind5UgDZ"
      },
      "outputs": [],
      "source": [
        "#Coeficiente\n",
        "(np.std(muestra) / np.mean(muestra)) * 100"
      ]
    },
    {
      "cell_type": "code",
      "execution_count": null,
      "metadata": {
        "id": "Mpz8sObhUgDa"
      },
      "outputs": [],
      "source": [
        "numeros = [numero for fila in muestra for numero in fila] #Paso la matriz a una lista\n",
        "plt.hist(x = numeros, bins = 5, color = 'cyan', rwidth = 0.8)\n",
        "plt.title(\"Histograma de alturas\")\n",
        "plt.xlabel(\"Alturas\")\n",
        "plt.ylabel(\"Frecuecia\")\n",
        "plt.show()"
      ]
    },
    {
      "cell_type": "code",
      "execution_count": null,
      "metadata": {
        "id": "7Y0Z6wIuUgDb"
      },
      "outputs": [],
      "source": [
        "df = pd.DataFrame(muestra, index = range(1,6), columns = ['col1', 'col2','col3','col4'])\n",
        "df.describe()"
      ]
    },
    {
      "cell_type": "code",
      "execution_count": null,
      "metadata": {
        "id": "0aWM0rHCUgDc"
      },
      "outputs": [],
      "source": [
        "grupos = np.array([[10.5,17],\n",
        "                  [6.8,18],\n",
        "                  [20.7,21],\n",
        "                  [18.2,16],\n",
        "                  [8.6,16],\n",
        "                  [25.8,21],\n",
        "                  [22.2,16],\n",
        "                  [5.9,14],\n",
        "                  [7.6,18],\n",
        "                  [11.8,18]])\n",
        "\n",
        "grupos_df = pd.DataFrame(grupos, index = range(1,11), columns=['Ingreso en miles', 'Años de estudio'])\n",
        "grupos_df.describe()"
      ]
    },
    {
      "cell_type": "code",
      "execution_count": null,
      "metadata": {
        "id": "lEo-oC0lUgDd"
      },
      "outputs": [],
      "source": [
        "#Histograma Ingrso en miles\n",
        "plt.hist(x = grupos_df['Ingreso en miles'], bins = 6, color = 'blue', rwidth = 0.8)\n",
        "plt.title(\"Histograma Ingrso en miles\", color= 'red')\n",
        "plt.xlabel(\"Ingreso en miles\")\n",
        "plt.ylabel(\"Frecuecia\")\n",
        "plt.show()"
      ]
    },
    {
      "cell_type": "code",
      "execution_count": null,
      "metadata": {
        "id": "WEmVlthZUgDe"
      },
      "outputs": [],
      "source": [
        "#Histograma de Años de estudio\n",
        "plt.hist(x = grupos_df['Años de estudio'], bins = 6, color = 'cyan', rwidth = 0.8)\n",
        "plt.title('Histograma de Años de estudio', color= 'red')\n",
        "plt.xlabel(\"Años de estudio\")\n",
        "plt.ylabel(\"Frecuecia\")\n",
        "plt.show()"
      ]
    },
    {
      "cell_type": "code",
      "execution_count": null,
      "metadata": {
        "id": "GQc48nvmUgDf"
      },
      "outputs": [],
      "source": [
        "grupos_df['Ingreso en miles'].mean()"
      ]
    },
    {
      "cell_type": "code",
      "execution_count": null,
      "metadata": {
        "id": "rph6MgwfUgDg"
      },
      "outputs": [],
      "source": [
        "np.mean(grupos[:, 0])"
      ]
    },
    {
      "cell_type": "code",
      "execution_count": null,
      "metadata": {
        "id": "S6-3OxnnUgDg"
      },
      "outputs": [],
      "source": [
        "grupos_df.loc[11] = [50, 35]\n",
        "grupos_df.loc[12] = [120, 30]\n",
        "grupos_df.describe()"
      ]
    },
    {
      "cell_type": "code",
      "execution_count": null,
      "metadata": {
        "id": "pO0srlKpUgDh",
        "outputId": "f4b82f67-e5c5-4ac9-d446-e1e18e6520bb"
      },
      "outputs": [
        {
          "name": "stdout",
          "output_type": "stream",
          "text": [
            "7\n"
          ]
        }
      ],
      "source": [
        "def lineal(x):\n",
        "   y = 3 * x + 1\n",
        "   return y\n",
        "\n",
        "print(lineal(2))"
      ]
    }
  ],
  "metadata": {
    "kernelspec": {
      "display_name": "Python 3.9.7 64-bit",
      "language": "python",
      "name": "python3"
    },
    "language_info": {
      "codemirror_mode": {
        "name": "ipython",
        "version": 3
      },
      "file_extension": ".py",
      "mimetype": "text/x-python",
      "name": "python",
      "nbconvert_exporter": "python",
      "pygments_lexer": "ipython3",
      "version": "3.9.7"
    },
    "orig_nbformat": 4,
    "vscode": {
      "interpreter": {
        "hash": "11938c6bc6919ae2720b4d5011047913343b08a43b18698fd82dedb0d4417594"
      }
    },
    "colab": {
      "provenance": [],
      "include_colab_link": true
    }
  },
  "nbformat": 4,
  "nbformat_minor": 0
}